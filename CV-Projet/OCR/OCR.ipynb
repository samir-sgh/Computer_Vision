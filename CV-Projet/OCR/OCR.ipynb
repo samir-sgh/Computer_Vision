{
 "cells": [
  {
   "cell_type": "code",
   "execution_count": 17,
   "id": "d27eecf0",
   "metadata": {},
   "outputs": [],
   "source": [
    "from PIL import Image\n",
    "import pytesseract"
   ]
  },
  {
   "cell_type": "code",
   "execution_count": 18,
   "id": "5b695a26",
   "metadata": {},
   "outputs": [
    {
     "name": "stdout",
     "output_type": "stream",
     "text": [
      "Bonjour,\n",
      "\n",
      "Comme prévu, et & titre de travail de recherche (projet individuel) , veuillez choisir un sujet dans la liste suivante, faire\n",
      "un travail de recherche : presentation de l'architecture, fonction attendue, principe et un exemple d'application\n",
      "\n",
      "* Reconnaissance d'images (Classification), Architectures : AlexNet, VGG, ResNet, Inception,\n",
      "\n",
      "EfficientNet, Applications : Identification des individus , Détection de maladies dans les images médicales\n",
      "(radiographies, IRM, etc.), .\n",
      "\n",
      "* Détection dobjets, Architectures : YOLO (You Only Look Once), SSD (Single Shot MultiBox Detector), Faster R-\n",
      "CNN, RetinaNet, YOLOvS, Applications :Véhicules autonomes, Surveillance vidéo, Agriculture de précision,\n",
      "Industrie et maintenance, ..\n",
      "\n",
      "* Segmentation dimages, Architectures : U-Net, FCN (Fully Convolutional Networks), DeepLab, Mask R-CNN, Swin\n",
      "Transformer, Applications : Médecine, Véhicules autonomes, Répartition des ressources agricoles,\n",
      "\n",
      "* Analyse de vidéos et compréhension temporelle, Architectures : RNN (Recurrent Neural Networks), LSTMs\n",
      "(Long Short Term Memory), 3D CNNs, Applications : Vidéos surveillance, Reconnaissance d'activités humaines ,\n",
      "Analyse sportive,\n",
      "\n",
      "* Reconnaissance de texte (OCR - Reconnaissance optique de caractéres), Architectures : CRNN (Convolutional\n",
      "Recurrent Neural Networks), Tesseract, Transformers, CNNs , Applications : Numérisation de documents,\n",
      "Traduction en temps réel Reconnaissance des plaques dimmatriculation, ..\n",
      "\n",
      "* Reconnaissance faciale, Architectures : FaceNet, VGG-Face, DeepFace, ArcFace, Applications : Authentification\n",
      "et sécurité, Surveillance et contréle d'accés, Analyse des émotions , ..\n",
      "\n",
      "+ Synthase d'images et génération de contenu, Architectures : GANs (Generative Adversarial Networks), VAES\n",
      "(Variational Auto-encoders), Pix2Pix, CycleGAN, Applications : Création artistique, Amélioration dimage,\n",
      "Simulation d'environnements,\n",
      "\n",
      "1 Rappel : I'examen QCM aura lieu le 20 Jan 2025\n",
      "\n"
     ]
    }
   ],
   "source": [
    "# Specify the Tesseract OCR executable path\n",
    "pytesseract.pytesseract.tesseract_cmd = \"C:/Program Files/Tesseract-OCR/tesseract.exe\"\n",
    "\n",
    "# Open an image file\n",
    "image = Image.open('image.png')\n",
    "\n",
    "# Use Pytesseract to convert the image to text\n",
    "text = pytesseract.image_to_string(image)\n",
    "\n",
    "# Print the extracted text\n",
    "print(text)"
   ]
  },
  {
   "cell_type": "code",
   "execution_count": null,
   "id": "5f07c066-f3ee-4563-bfcd-4d9805f18d39",
   "metadata": {},
   "outputs": [],
   "source": []
  }
 ],
 "metadata": {
  "kernelspec": {
   "display_name": "Python 3 (ipykernel)",
   "language": "python",
   "name": "python3"
  }
 },
 "nbformat": 4,
 "nbformat_minor": 5
}
